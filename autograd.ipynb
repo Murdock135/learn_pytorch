{
 "cells": [
  {
   "cell_type": "code",
   "execution_count": 14,
   "metadata": {},
   "outputs": [],
   "source": [
    "import torch"
   ]
  },
  {
   "cell_type": "markdown",
   "metadata": {},
   "source": [
    "# Examples from Dr Data Science\n",
    "\n",
    "Example 1"
   ]
  },
  {
   "cell_type": "code",
   "execution_count": 15,
   "metadata": {},
   "outputs": [
    {
     "name": "stdout",
     "output_type": "stream",
     "text": [
      "tensor([0., 1., 2., 3.], requires_grad=True)\n",
      "None\n",
      "tensor(14., grad_fn=<DotBackward0>)\n",
      "tensor([0., 2., 4., 6.])\n",
      "tensor([True, True, True, True])\n"
     ]
    }
   ],
   "source": [
    "x = torch.arange(4.0, requires_grad=True) # create a torch variable\n",
    "print(x) \n",
    "print(x.grad) # Function to calculate gradient of any function y (currently not defined) against x. Thus dy/dx = [dy/da1(x1) dy/da2(x2) ... dy/dan(xn)]\n",
    "\n",
    "y = torch.dot(x,x) # output\n",
    "print(y)\n",
    "\n",
    "y.backward() # calculate gradients dy/dx\n",
    "print(x.grad)\n",
    "\n",
    "print(x.grad == 2*x) # verify pytorch calculation against analytical solution"
   ]
  },
  {
   "cell_type": "markdown",
   "metadata": {},
   "source": [
    "Example 2"
   ]
  },
  {
   "cell_type": "code",
   "execution_count": 16,
   "metadata": {},
   "outputs": [
    {
     "name": "stdout",
     "output_type": "stream",
     "text": [
      "tensor([1., 1., 1., 1.])\n"
     ]
    }
   ],
   "source": [
    "x.grad.zero_() # PyTorch accumulates the gradient by default, we need to clear the previous values\n",
    "y = x.sum() # f(x) = a1 + a2 + a3 ... + an\n",
    "y.backward() # df/da = [1 1 1 1]\n",
    "print(x.grad)"
   ]
  },
  {
   "cell_type": "markdown",
   "metadata": {},
   "source": [
    "Example 3"
   ]
  },
  {
   "cell_type": "code",
   "execution_count": 23,
   "metadata": {},
   "outputs": [
    {
     "name": "stdout",
     "output_type": "stream",
     "text": [
      "tensor([0., 1., 4.], grad_fn=<MulBackward0>)\n",
      "tensor([0., 2., 4.])\n"
     ]
    }
   ],
   "source": [
    "x = torch.arange(3.0, requires_grad=True)\n",
    "y = x*x # f(x) = [x1^2  x2^2  x3^2]. Note: x*x is element wise operation\n",
    "y.backward(torch.tensor([1.0, 1.0, 1.0]))\n",
    "print(x.grad)"
   ]
  },
  {
   "cell_type": "markdown",
   "metadata": {},
   "source": [
    "Example 4"
   ]
  },
  {
   "cell_type": "code",
   "execution_count": 32,
   "metadata": {},
   "outputs": [
    {
     "name": "stdout",
     "output_type": "stream",
     "text": [
      "tensor([36., 81.]) tensor([-12.,  -8.])\n",
      "tensor([36.,  0.]) tensor([-12.,   0.])\n"
     ]
    }
   ],
   "source": [
    "a = torch.tensor([2.0, 3.0], requires_grad=True)\n",
    "b = torch.tensor([6., 4.], requires_grad=True)\n",
    "Q = 3*a**3 - b**2\n",
    "\n",
    "# example 4.1\n",
    "external_grad = torch.tensor([1,1]) # match number of variables. In this case we have a and b hence 2 variables.\n",
    "Q.backward(gradient=external_grad, retain_graph=True) # retain_graph=True can be used if you want to calculate grads again and don't want to define the output function again.\n",
    "print(a.grad, b.grad)\n",
    "\n",
    "# example 4.2\n",
    "a.grad.zero_()\n",
    "b.grad.zero_()\n",
    "external_grad = torch.tensor([1,0]) # match number of variables. In this case we have a and b hence 2 variables.\n",
    "Q.backward(gradient=external_grad)\n",
    "print(a.grad, b.grad)"
   ]
  },
  {
   "cell_type": "markdown",
   "metadata": {},
   "source": [
    "Detaching computation\n",
    "\n",
    "Example 5"
   ]
  },
  {
   "cell_type": "code",
   "execution_count": 38,
   "metadata": {},
   "outputs": [
    {
     "name": "stdout",
     "output_type": "stream",
     "text": [
      "tensor([ 0.,  3., 12., 27.])\n",
      "tensor([0., 1., 4., 9.])\n"
     ]
    }
   ],
   "source": [
    "# Example 5.1 NO detach\n",
    "x = torch.arange(4., requires_grad=True)\n",
    "y = x*x\n",
    "u = y\n",
    "z = u*x\n",
    "z.sum().backward()\n",
    "print(x.grad)\n",
    "\n",
    "# Example 5.2 detach \n",
    "x = torch.arange(4., requires_grad=True)\n",
    "y = x*x\n",
    "u = y.detach() # in dz/dx, u will be constants\n",
    "z = u*x\n",
    "z.sum().backward()\n",
    "print(x.grad)"
   ]
  },
  {
   "cell_type": "markdown",
   "metadata": {},
   "source": [
    "# Pytorch Beginner Tutorials"
   ]
  },
  {
   "cell_type": "code",
   "execution_count": 18,
   "metadata": {},
   "outputs": [],
   "source": [
    "x = torch.ones(5)\n",
    "y = torch.ones(3)\n",
    "w = torch.randn(5, 3, requires_grad=True)\n",
    "b = torch.randn(3, requires_grad=True)\n",
    "z = x @ w + b\n",
    "\n",
    "loss = torch.nn.functional.mse_loss(z,y)"
   ]
  },
  {
   "cell_type": "code",
   "execution_count": 19,
   "metadata": {},
   "outputs": [
    {
     "name": "stdout",
     "output_type": "stream",
     "text": [
      "The weights:\n",
      "tensor([[ 0.2067,  2.0519,  1.3838],\n",
      "        [-1.5333, -2.2768, -0.8264],\n",
      "        [ 1.2000,  0.5559,  0.2384],\n",
      "        [-0.6258, -0.8957, -0.7719],\n",
      "        [ 1.1750,  0.5825,  1.0196]], requires_grad=True)\n",
      "The inputs:\n",
      "tensor([1., 1., 1., 1., 1.])\n",
      "The outputs:\n",
      "tensor([-1.7978,  0.4972,  1.7200], grad_fn=<AddBackward0>)\n",
      "The labels:\n",
      "tensor([1., 1., 1.])\n",
      "Loss at the 0th iteration =  tensor(2.8663, grad_fn=<MseLossBackward0>)\n"
     ]
    }
   ],
   "source": [
    "print(\"The weights:\")\n",
    "print(w)\n",
    "\n",
    "print(\"The inputs:\")\n",
    "print(x)\n",
    "\n",
    "print(\"The outputs:\")\n",
    "print(z)\n",
    "\n",
    "print(\"The labels:\")\n",
    "print(y)\n",
    "\n",
    "print(\"Loss at the 0th iteration = \", loss)"
   ]
  },
  {
   "cell_type": "code",
   "execution_count": 20,
   "metadata": {},
   "outputs": [
    {
     "name": "stdout",
     "output_type": "stream",
     "text": [
      "Gradient function for z = <AddBackward0 object at 0x000001BDC0650DC0>\n",
      "Gradient function for loss = <MseLossBackward0 object at 0x000001BDC05F2950>\n"
     ]
    }
   ],
   "source": [
    "print(f\"Gradient function for z = {z.grad_fn}\")\n",
    "print(f\"Gradient function for loss = {loss.grad_fn}\")"
   ]
  },
  {
   "cell_type": "code",
   "execution_count": 21,
   "metadata": {},
   "outputs": [
    {
     "name": "stdout",
     "output_type": "stream",
     "text": [
      "Gradients dloss/dw and dloss/db before calling loss.backward()\n",
      "None\n",
      "None\n"
     ]
    }
   ],
   "source": [
    "# gradients\n",
    "print(\"Gradients dloss/dw and dloss/db before calling loss.backward()\")\n",
    "print(w.grad) # dloss/dw\n",
    "print(b.grad) # dloss/db"
   ]
  },
  {
   "cell_type": "code",
   "execution_count": 22,
   "metadata": {},
   "outputs": [
    {
     "name": "stdout",
     "output_type": "stream",
     "text": [
      "Gradients dloss/dw and dloss/db after calling loss.backward()\n",
      "tensor([[-1.8652, -0.3352,  0.4800],\n",
      "        [-1.8652, -0.3352,  0.4800],\n",
      "        [-1.8652, -0.3352,  0.4800],\n",
      "        [-1.8652, -0.3352,  0.4800],\n",
      "        [-1.8652, -0.3352,  0.4800]])\n",
      "tensor([-1.8652, -0.3352,  0.4800])\n"
     ]
    }
   ],
   "source": [
    "print(\"Gradients dloss/dw and dloss/db after calling loss.backward()\")\n",
    "loss.backward()\n",
    "print(w.grad)\n",
    "print(b.grad)"
   ]
  },
  {
   "cell_type": "markdown",
   "metadata": {},
   "source": [
    "# Datasets and Dataloaders"
   ]
  },
  {
   "cell_type": "code",
   "execution_count": 39,
   "metadata": {},
   "outputs": [],
   "source": [
    "from torch.utils.data import Dataset\n",
    "from torchvision import datasets\n",
    "from torchvision.transforms import ToTensor\n",
    "import matplotlib.pyplot as plt"
   ]
  },
  {
   "cell_type": "code",
   "execution_count": 41,
   "metadata": {},
   "outputs": [
    {
     "name": "stdout",
     "output_type": "stream",
     "text": [
      "Downloading http://yann.lecun.com/exdb/mnist/train-images-idx3-ubyte.gz\n",
      "Downloading http://yann.lecun.com/exdb/mnist/train-images-idx3-ubyte.gz to data\\MNIST\\raw\\train-images-idx3-ubyte.gz\n"
     ]
    },
    {
     "name": "stderr",
     "output_type": "stream",
     "text": [
      "100%|██████████| 9912422/9912422 [00:02<00:00, 3533126.67it/s]\n"
     ]
    },
    {
     "name": "stdout",
     "output_type": "stream",
     "text": [
      "Extracting data\\MNIST\\raw\\train-images-idx3-ubyte.gz to data\\MNIST\\raw\n",
      "\n",
      "Downloading http://yann.lecun.com/exdb/mnist/train-labels-idx1-ubyte.gz\n",
      "Downloading http://yann.lecun.com/exdb/mnist/train-labels-idx1-ubyte.gz to data\\MNIST\\raw\\train-labels-idx1-ubyte.gz\n"
     ]
    },
    {
     "name": "stderr",
     "output_type": "stream",
     "text": [
      "100%|██████████| 28881/28881 [00:00<00:00, 24838157.44it/s]"
     ]
    },
    {
     "name": "stdout",
     "output_type": "stream",
     "text": [
      "Extracting data\\MNIST\\raw\\train-labels-idx1-ubyte.gz to data\\MNIST\\raw\n"
     ]
    },
    {
     "name": "stderr",
     "output_type": "stream",
     "text": [
      "\n"
     ]
    },
    {
     "name": "stdout",
     "output_type": "stream",
     "text": [
      "\n",
      "Downloading http://yann.lecun.com/exdb/mnist/t10k-images-idx3-ubyte.gz\n",
      "Downloading http://yann.lecun.com/exdb/mnist/t10k-images-idx3-ubyte.gz to data\\MNIST\\raw\\t10k-images-idx3-ubyte.gz\n"
     ]
    },
    {
     "name": "stderr",
     "output_type": "stream",
     "text": [
      "100%|██████████| 1648877/1648877 [00:00<00:00, 3420474.40it/s]\n"
     ]
    },
    {
     "name": "stdout",
     "output_type": "stream",
     "text": [
      "Extracting data\\MNIST\\raw\\t10k-images-idx3-ubyte.gz to data\\MNIST\\raw\n",
      "\n",
      "Downloading http://yann.lecun.com/exdb/mnist/t10k-labels-idx1-ubyte.gz\n",
      "Downloading http://yann.lecun.com/exdb/mnist/t10k-labels-idx1-ubyte.gz to data\\MNIST\\raw\\t10k-labels-idx1-ubyte.gz\n"
     ]
    },
    {
     "name": "stderr",
     "output_type": "stream",
     "text": [
      "100%|██████████| 4542/4542 [00:00<00:00, 4553185.65it/s]\n"
     ]
    },
    {
     "name": "stdout",
     "output_type": "stream",
     "text": [
      "Extracting data\\MNIST\\raw\\t10k-labels-idx1-ubyte.gz to data\\MNIST\\raw\n",
      "\n"
     ]
    }
   ],
   "source": [
    "training_data = datasets.MNIST(\n",
    "    root=\"data\",\n",
    "    train=True,\n",
    "    download=True,\n",
    "    transform=ToTensor()\n",
    ")\n",
    "\n",
    "test_data = datasets.MNIST(\n",
    "    root=\"data\",\n",
    "    train=False,\n",
    "    download=True,\n",
    "    transform=ToTensor()\n",
    ")"
   ]
  }
 ],
 "metadata": {
  "kernelspec": {
   "display_name": "ci_win",
   "language": "python",
   "name": "python3"
  },
  "language_info": {
   "codemirror_mode": {
    "name": "ipython",
    "version": 3
   },
   "file_extension": ".py",
   "mimetype": "text/x-python",
   "name": "python",
   "nbconvert_exporter": "python",
   "pygments_lexer": "ipython3",
   "version": "3.11.5"
  }
 },
 "nbformat": 4,
 "nbformat_minor": 2
}
